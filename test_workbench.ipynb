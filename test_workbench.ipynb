{
 "cells": [
  {
   "cell_type": "markdown",
   "id": "31e6493f-6f3a-4a96-a008-1b6daf252ba6",
   "metadata": {},
   "source": [
    "# test-workbench\n",
    "\n",
    "Testing deployment of RStudio IDE on Vertex AI Workbench"
   ]
  },
  {
   "cell_type": "markdown",
   "id": "ac403cdb-d47c-4f14-93f6-4b627860ce64",
   "metadata": {},
   "source": [
    "## Setup"
   ]
  },
  {
   "cell_type": "markdown",
   "id": "36367b41-d1da-4e6b-ac00-c3e1b82b742e",
   "metadata": {},
   "source": [
    "### Set your project ID\n",
    "\n",
    "**If you don't know your project ID**, you may be able to get your project ID using `gcloud`."
   ]
  },
  {
   "cell_type": "code",
   "execution_count": null,
   "id": "deb38a45-25d5-4016-88b5-90b36d07776b",
   "metadata": {},
   "outputs": [],
   "source": [
    "import os\n",
    "# Get your Google Cloud project ID from gcloud\n",
    "shell_output=!gcloud config list --format 'value(core.project)' 2>/dev/null\n",
    "\n",
    "try:\n",
    "    PROJECT_ID = shell_output[0]\n",
    "except IndexError:\n",
    "    PROJECT_ID = None\n",
    "\n",
    "# Get your Google Cloud project ID from gcloud\n",
    "if not os.getenv(\"IS_TESTING\"):\n",
    "    shell_output=!gcloud config list --format 'value(core.project)' 2>/dev/null\n",
    "    PROJECT_ID = shell_output[0]\n",
    "    print(\"Project ID: \", PROJECT_ID)"
   ]
  },
  {
   "cell_type": "markdown",
   "id": "c8d88168-9f44-4db7-8170-f9f709bcd02d",
   "metadata": {},
   "source": [
    "### Enable APIS \n",
    "\n",
    "First, you must enable the following APIs for your project:\n",
    "\n",
    "* Artifact Registry API \n",
    "* [Cloud Build API](https://console.cloud.google.com/flows/enableapi?apiid=cloudbuild.googleapis.com)\n",
    "\n",
    "Learn more about [Enabling service](https://cloud.google.com/artifact-registry/docs/enable-service)"
   ]
  },
  {
   "cell_type": "code",
   "execution_count": null,
   "id": "0efcb37d-b18c-4d15-a02f-22f701faf299",
   "metadata": {},
   "outputs": [],
   "source": [
    "! gcloud services enable artifactregistry.googleapis.com\n",
    "! gcloud services enable cloudbuild.googleapis.com"
   ]
  },
  {
   "cell_type": "markdown",
   "id": "0d2ee7b9-a7d2-445f-a949-ada3174814cd",
   "metadata": {},
   "source": [
    "## Build and push container image"
   ]
  },
  {
   "cell_type": "markdown",
   "id": "01f9beb1-2e6e-4923-b912-ffc10e4087a9",
   "metadata": {},
   "source": [
    "### Create a private Docker repository\n",
    "\n",
    "Your first step is to create your own Docker repository in Google Artifact Registry.\n",
    "\n",
    "1.  Run the `gcloud artifacts repositories create` command to create a new Docker repository with your region with the description \"docker repository\".\n",
    "    \n",
    "2.  Run the `gcloud artifacts repositories list` command to verify that your repository was created."
   ]
  },
  {
   "cell_type": "code",
   "execution_count": null,
   "id": "91805d9c-a08a-43c6-9c1b-de0ca67e5e89",
   "metadata": {},
   "outputs": [],
   "source": [
    "REGION = \"us-central1\" \n",
    "PRIVATE_REPO = \"rstudio\""
   ]
  },
  {
   "cell_type": "code",
   "execution_count": null,
   "id": "f66db4ce-baa0-4b49-a23a-4eeb73845248",
   "metadata": {},
   "outputs": [],
   "source": [
    "! gcloud artifacts repositories create $PRIVATE_REPO --repository-format=docker \\\n",
    "    --location=$REGION \\\n",
    "    --description=\"Docker repository for RStudio on Vertex Workbench\""
   ]
  },
  {
   "cell_type": "code",
   "execution_count": null,
   "id": "8213202b-8934-41e8-92ad-d67ea8166573",
   "metadata": {},
   "outputs": [],
   "source": [
    "! gcloud artifacts repositories list"
   ]
  },
  {
   "cell_type": "code",
   "execution_count": null,
   "id": "eb2ad402-4a28-4602-ac1d-c19ee22e95af",
   "metadata": {},
   "outputs": [],
   "source": [
    "! gcloud auth configure-docker $REGION-docker.pkg.dev --quiet"
   ]
  },
  {
   "cell_type": "markdown",
   "id": "db89eea4-f5bd-4f3b-adba-dc41edec350e",
   "metadata": {},
   "source": [
    "### Build the Docker container\n",
    "\n",
    "Next, you build the Docker container image on Cloud Build -- the serverless CI/CD platform.\n",
    "\n",
    "_Note:_ Building the Docker container image will take ~15 minutes."
   ]
  },
  {
   "cell_type": "code",
   "execution_count": null,
   "id": "6eb77b6e-301c-4faf-8128-303fd1b45d20",
   "metadata": {},
   "outputs": [],
   "source": [
    "IMAGE_NAME = \"rstudio\"\n",
    "IMAGE_TAG = \"latest\" \n",
    "IMAGE_URI = f\"{REGION}-docker.pkg.dev/{PROJECT_ID}/{PRIVATE_REPO}/{IMAGE_NAME}:{IMAGE_TAG}\"\n",
    "IMAGE_URI"
   ]
  },
  {
   "cell_type": "code",
   "execution_count": null,
   "id": "e772e434-e4fd-4d0d-bd96-c8376177e070",
   "metadata": {},
   "outputs": [],
   "source": [
    "! gcloud builds submit ./Docker --region=$REGION --tag=$IMAGE_URI --timeout=1h"
   ]
  },
  {
   "cell_type": "markdown",
   "id": "0689f6a8-11cb-4134-a317-a52db4a32b1f",
   "metadata": {},
   "source": [
    "## Create Vertex AI Workbench Notebook\n",
    "\n",
    "Start a new Notebook instance from the previously created container image. Make sure to choose a [custom container](https://cloud.google.com/ai-platform/notebooks/docs/custom-container). Pass in the gcr.io address you created earlier. Here's the url:"
   ]
  },
  {
   "cell_type": "code",
   "execution_count": null,
   "id": "38cffd6a-83a5-4a07-9356-909f896f871f",
   "metadata": {},
   "outputs": [],
   "source": [
    "REPO_URI = f\"{REGION}-docker.pkg.dev/{PROJECT_ID}/{PRIVATE_REPO}/{IMAGE_NAME}\"\n",
    "REPO_URI"
   ]
  },
  {
   "cell_type": "markdown",
   "id": "6bd8c488-c88e-4f75-9f71-659e92b2ce90",
   "metadata": {},
   "source": [
    "There are 2 ways to create a notebook instance \n",
    "\n",
    "1. Console UI \n",
    "2. `gcloud` command (below)\n",
    "\n",
    "_Note:_ Creating the Workbench Notebook instance the first time will take ~5 minutes due to installation of dependencies"
   ]
  },
  {
   "cell_type": "code",
   "execution_count": null,
   "id": "0cbc91b2-fdf9-44c6-9421-1c0a5a145378",
   "metadata": {},
   "outputs": [],
   "source": [
    "# TODO - cleanup to be correct after testing complete\n",
    "# ! gcloud notebooks instances create rstudio-instance --container-repository=$REPO_URI --container-tag=$IMAGE_TAG --machine-type=n1-standard-4 --location=us-central1-b"
   ]
  },
  {
   "cell_type": "markdown",
   "id": "293adf52-6240-4dae-a305-f72f0e92c01c",
   "metadata": {},
   "source": [
    "## Troubleshooting\n",
    "\n",
    "Troubleshooting to get notebook working"
   ]
  },
  {
   "cell_type": "markdown",
   "id": "fad4dc9c-8eac-410f-b06f-327558368b15",
   "metadata": {},
   "source": [
    "### Download conatiner and run locally \n",
    "\n",
    "Download container and run locally to help debug in cloud shell"
   ]
  },
  {
   "cell_type": "markdown",
   "id": "73455f76-3811-4efb-8e09-cdf4cb34cb4f",
   "metadata": {},
   "source": [
    "Run the following in a cloud shell instance: \n",
    "\n",
    "\n",
    "1. Authorize docker \n",
    "\n",
    "```sh\n",
    "gcloud auth configure-docker us-central1-docker.pkg.dev --quiet\n",
    "```\n",
    "\n",
    "2. download the latest image to your local (cloud shell) directory\n",
    "\n",
    "```sh\n",
    "docker pull us-central1-docker.pkg.dev/demos-vertex-ai/rstudio/rstudio:latest\n",
    "```\n",
    "\n",
    "3. start container \n",
    "\n",
    "```sh\n",
    "docker run --rm -p 8080:8787 0eb4550dc4ad\n",
    "```\n",
    "\n",
    "4. Generate url for RStudio \n",
    "\n",
    "```sh\n",
    "echo https://8080-$WEB_HOST\n",
    "```\n",
    "\n",
    "5. click on the generated url to open rstudio"
   ]
  }
 ],
 "metadata": {
  "kernelspec": {
   "display_name": "Python 3 (Local)",
   "language": "python",
   "name": "local-python3"
  },
  "language_info": {
   "codemirror_mode": {
    "name": "ipython",
    "version": 3
   },
   "file_extension": ".py",
   "mimetype": "text/x-python",
   "name": "python",
   "nbconvert_exporter": "python",
   "pygments_lexer": "ipython3",
   "version": "3.7.12"
  }
 },
 "nbformat": 4,
 "nbformat_minor": 5
}
