{
 "cells": [
  {
   "cell_type": "markdown",
   "id": "31e6493f-6f3a-4a96-a008-1b6daf252ba6",
   "metadata": {},
   "source": [
    "# test-workbench\n",
    "\n",
    "Testing deployment of RStudio IDE on Vertex AI Workbench"
   ]
  },
  {
   "cell_type": "markdown",
   "id": "ac403cdb-d47c-4f14-93f6-4b627860ce64",
   "metadata": {},
   "source": [
    "## Setup"
   ]
  },
  {
   "cell_type": "markdown",
   "id": "36367b41-d1da-4e6b-ac00-c3e1b82b742e",
   "metadata": {},
   "source": [
    "### Set your project ID\n",
    "\n",
    "**If you don't know your project ID**, you may be able to get your project ID using `gcloud`."
   ]
  },
  {
   "cell_type": "code",
   "execution_count": 5,
   "id": "deb38a45-25d5-4016-88b5-90b36d07776b",
   "metadata": {},
   "outputs": [
    {
     "name": "stdout",
     "output_type": "stream",
     "text": [
      "Project ID:  demos-vertex-ai\n"
     ]
    }
   ],
   "source": [
    "import os\n",
    "# Get your Google Cloud project ID from gcloud\n",
    "shell_output=!gcloud config list --format 'value(core.project)' 2>/dev/null\n",
    "\n",
    "try:\n",
    "    PROJECT_ID = shell_output[0]\n",
    "except IndexError:\n",
    "    PROJECT_ID = None\n",
    "\n",
    "# Get your Google Cloud project ID from gcloud\n",
    "if not os.getenv(\"IS_TESTING\"):\n",
    "    shell_output=!gcloud config list --format 'value(core.project)' 2>/dev/null\n",
    "    PROJECT_ID = shell_output[0]\n",
    "    print(\"Project ID: \", PROJECT_ID)"
   ]
  },
  {
   "cell_type": "markdown",
   "id": "c8d88168-9f44-4db7-8170-f9f709bcd02d",
   "metadata": {},
   "source": [
    "### Enable APIS \n",
    "\n",
    "First, you must enable the following APIs for your project:\n",
    "\n",
    "* Artifact Registry API \n",
    "* [Cloud Build API](https://console.cloud.google.com/flows/enableapi?apiid=cloudbuild.googleapis.com)\n",
    "\n",
    "Learn more about [Enabling service](https://cloud.google.com/artifact-registry/docs/enable-service)"
   ]
  },
  {
   "cell_type": "code",
   "execution_count": null,
   "id": "0efcb37d-b18c-4d15-a02f-22f701faf299",
   "metadata": {},
   "outputs": [],
   "source": [
    "! gcloud services enable artifactregistry.googleapis.com\n",
    "! gcloud services enable cloudbuild.googleapis.com"
   ]
  },
  {
   "cell_type": "markdown",
   "id": "0d2ee7b9-a7d2-445f-a949-ada3174814cd",
   "metadata": {},
   "source": [
    "## Build and push container image"
   ]
  },
  {
   "cell_type": "markdown",
   "id": "01f9beb1-2e6e-4923-b912-ffc10e4087a9",
   "metadata": {},
   "source": [
    "### Create a private Docker repository\n",
    "\n",
    "Your first step is to create your own Docker repository in Google Artifact Registry.\n",
    "\n",
    "1.  Run the `gcloud artifacts repositories create` command to create a new Docker repository with your region with the description \"docker repository\".\n",
    "    \n",
    "2.  Run the `gcloud artifacts repositories list` command to verify that your repository was created."
   ]
  },
  {
   "cell_type": "code",
   "execution_count": 1,
   "id": "91805d9c-a08a-43c6-9c1b-de0ca67e5e89",
   "metadata": {},
   "outputs": [],
   "source": [
    "REGION = \"us-central1\" \n",
    "PRIVATE_REPO = \"rstudio\""
   ]
  },
  {
   "cell_type": "code",
   "execution_count": null,
   "id": "f66db4ce-baa0-4b49-a23a-4eeb73845248",
   "metadata": {},
   "outputs": [],
   "source": [
    "! gcloud artifacts repositories create $PRIVATE_REPO --repository-format=docker \\\n",
    "    --location=$REGION \\\n",
    "    --description=\"Docker repository for RStudio on Vertex Workbench\""
   ]
  },
  {
   "cell_type": "code",
   "execution_count": 2,
   "id": "8213202b-8934-41e8-92ad-d67ea8166573",
   "metadata": {},
   "outputs": [
    {
     "name": "stdout",
     "output_type": "stream",
     "text": [
      "Listing items under project demos-vertex-ai, across all locations.\n",
      "\n",
      "                                                                                     ARTIFACT_REGISTRY\n",
      "REPOSITORY      FORMAT  MODE                 DESCRIPTION                                        LOCATION     LABELS  ENCRYPTION          CREATE_TIME          UPDATE_TIME          SIZE (MB)\n",
      "asia.gcr.io     DOCKER  STANDARD_REPOSITORY                                                     asia                 Google-managed key  2022-10-18T19:20:32  2022-10-18T19:20:32  0\n",
      "automl-beans    DOCKER  STANDARD_REPOSITORY  Docker repository                                  us-central1          Google-managed key  2022-10-19T20:07:45  2022-10-28T19:53:13  2939.842\n",
      "eu.gcr.io       DOCKER  STANDARD_REPOSITORY                                                     europe               Google-managed key  2022-10-18T19:20:25  2022-10-18T19:20:25  0\n",
      "gcr.io          DOCKER  STANDARD_REPOSITORY                                                     us                   Google-managed key  2022-10-18T19:20:17  2022-10-18T19:20:17  0\n",
      "my-docker-repo  DOCKER  STANDARD_REPOSITORY  Docker repository                                  us-central1          Google-managed key  2022-11-03T14:23:47  2022-11-03T14:38:51  2448.807\n",
      "r-model-02      DOCKER  STANDARD_REPOSITORY  Docker repository for R testing                    us-central1          Google-managed key  2022-11-10T20:21:36  2022-12-14T20:26:12  2471.705\n",
      "r-on-vertex     DOCKER  STANDARD_REPOSITORY  Docker repository                                  us-central1          Google-managed key  2022-10-10T19:11:01  2022-12-05T21:23:31  2462.551\n",
      "r-test-repo     DOCKER  STANDARD_REPOSITORY  Docker repository for R testing                    us-central1          Google-managed key  2022-11-09T16:59:10  2022-11-09T21:39:30  2470.709\n",
      "rstudio         DOCKER  STANDARD_REPOSITORY  Docker repository for RStudio on Vertex Workbench  us-central1          Google-managed key  2022-12-09T15:15:34  2022-12-09T15:39:11  2571.396\n",
      "us.gcr.io       DOCKER  STANDARD_REPOSITORY                                                     us                   Google-managed key  2022-10-18T19:20:16  2022-10-18T19:20:16  0\n",
      "vertex-r-batch  DOCKER  STANDARD_REPOSITORY  Docker repository                                  us-central1          Google-managed key  2022-11-07T16:17:58  2022-11-07T16:55:16  2448.808\n"
     ]
    }
   ],
   "source": [
    "! gcloud artifacts repositories list"
   ]
  },
  {
   "cell_type": "code",
   "execution_count": 3,
   "id": "eb2ad402-4a28-4602-ac1d-c19ee22e95af",
   "metadata": {},
   "outputs": [
    {
     "name": "stdout",
     "output_type": "stream",
     "text": [
      "\u001b[1;33mWARNING:\u001b[0m Your config file at [/home/jupyter/.docker/config.json] contains these credential helper entries:\n",
      "\n",
      "{\n",
      "  \"credHelpers\": {\n",
      "    \"gcr.io\": \"gcloud\",\n",
      "    \"us.gcr.io\": \"gcloud\",\n",
      "    \"eu.gcr.io\": \"gcloud\",\n",
      "    \"asia.gcr.io\": \"gcloud\",\n",
      "    \"staging-k8s.gcr.io\": \"gcloud\",\n",
      "    \"marketplace.gcr.io\": \"gcloud\"\n",
      "  }\n",
      "}\n",
      "Adding credentials for: us-central1-docker.pkg.dev\n",
      "Docker configuration file updated.\n"
     ]
    }
   ],
   "source": [
    "! gcloud auth configure-docker $REGION-docker.pkg.dev --quiet"
   ]
  },
  {
   "cell_type": "markdown",
   "id": "db89eea4-f5bd-4f3b-adba-dc41edec350e",
   "metadata": {},
   "source": [
    "### Build the Docker container\n",
    "\n",
    "Next, you build the Docker container image on Cloud Build -- the serverless CI/CD platform.\n",
    "\n",
    "_Note:_ Building the Docker container image will take ~15 minutes."
   ]
  },
  {
   "cell_type": "code",
   "execution_count": 6,
   "id": "6eb77b6e-301c-4faf-8128-303fd1b45d20",
   "metadata": {},
   "outputs": [
    {
     "data": {
      "text/plain": [
       "'us-central1-docker.pkg.dev/demos-vertex-ai/rstudio/rstudio:latest'"
      ]
     },
     "execution_count": 6,
     "metadata": {},
     "output_type": "execute_result"
    }
   ],
   "source": [
    "IMAGE_NAME = \"rstudio\"\n",
    "IMAGE_TAG = \"latest\" \n",
    "IMAGE_URI = f\"{REGION}-docker.pkg.dev/{PROJECT_ID}/{PRIVATE_REPO}/{IMAGE_NAME}:{IMAGE_TAG}\"\n",
    "IMAGE_URI"
   ]
  },
  {
   "cell_type": "code",
   "execution_count": null,
   "id": "e772e434-e4fd-4d0d-bd96-c8376177e070",
   "metadata": {},
   "outputs": [],
   "source": [
    "! gcloud builds submit ./Docker --region=$REGION --tag=$IMAGE_URI --timeout=1h"
   ]
  },
  {
   "cell_type": "markdown",
   "id": "0689f6a8-11cb-4134-a317-a52db4a32b1f",
   "metadata": {},
   "source": [
    "## Create Vertex AI Workbench Notebook\n",
    "\n",
    "Start a new Notebook instance from the previously created container image. Make sure to choose a [custom container](https://cloud.google.com/ai-platform/notebooks/docs/custom-container). Pass in the gcr.io address you created earlier. Here's the url:"
   ]
  },
  {
   "cell_type": "code",
   "execution_count": 8,
   "id": "38cffd6a-83a5-4a07-9356-909f896f871f",
   "metadata": {},
   "outputs": [
    {
     "data": {
      "text/plain": [
       "'us-central1-docker.pkg.dev/demos-vertex-ai/rstudio/rstudio'"
      ]
     },
     "execution_count": 8,
     "metadata": {},
     "output_type": "execute_result"
    }
   ],
   "source": [
    "REPO_URI = f\"{REGION}-docker.pkg.dev/{PROJECT_ID}/{PRIVATE_REPO}/{IMAGE_NAME}\"\n",
    "REPO_URI"
   ]
  },
  {
   "cell_type": "markdown",
   "id": "6bd8c488-c88e-4f75-9f71-659e92b2ce90",
   "metadata": {},
   "source": [
    "There are 2 ways to create a notebook instance \n",
    "\n",
    "1. Console UI \n",
    "2. `gcloud` command (below)\n",
    "\n",
    "_Note:_ Creating the Workbench Notebook instance the first time will take ~5 minutes due to installation of dependencies"
   ]
  },
  {
   "cell_type": "code",
   "execution_count": null,
   "id": "0cbc91b2-fdf9-44c6-9421-1c0a5a145378",
   "metadata": {},
   "outputs": [],
   "source": [
    "# TODO - cleanup to be correct after testing complete\n",
    "# ! gcloud notebooks instances create rstudio-instance --container-repository=$REPO_URI --container-tag=$IMAGE_TAG --machine-type=n1-standard-4 --location=us-central1-b"
   ]
  },
  {
   "cell_type": "markdown",
   "id": "293adf52-6240-4dae-a305-f72f0e92c01c",
   "metadata": {},
   "source": [
    "## Troubleshooting\n",
    "\n",
    "Troubleshooting to get notebook working"
   ]
  },
  {
   "cell_type": "markdown",
   "id": "fad4dc9c-8eac-410f-b06f-327558368b15",
   "metadata": {},
   "source": [
    "### Download conatiner and run locally \n",
    "\n",
    "Download container and run locally to help debug"
   ]
  },
  {
   "cell_type": "code",
   "execution_count": null,
   "id": "71a3caa1-91d1-4754-8e12-e8159f3a5cee",
   "metadata": {},
   "outputs": [],
   "source": [
    "# notebook instance/here \n",
    "! gcloud auth configure-docker $REGION-docker.pkg.dev --quiet"
   ]
  },
  {
   "cell_type": "code",
   "execution_count": 7,
   "id": "418e3f82-fc85-4015-940a-656881871b13",
   "metadata": {},
   "outputs": [
    {
     "name": "stdout",
     "output_type": "stream",
     "text": [
      "latest: Pulling from demos-vertex-ai/rstudio/rstudio\n",
      "\n",
      "\u001b[1Bd16dc43b: Pulling fs layer \n",
      "\u001b[1Bccc3b36b: Pulling fs layer \n",
      "\u001b[1Bbe3a151c: Pulling fs layer \n",
      "\u001b[1Bb700ef54: Pulling fs layer \n",
      "\u001b[1B6d6dc2fb: Pulling fs layer \n",
      "\u001b[1Bba7a26ce: Pulling fs layer \n",
      "\u001b[1B1152ebb5: Pulling fs layer \n",
      "\u001b[1B6ca4c6fa: Pulling fs layer \n",
      "\u001b[1B189a10f5: Pulling fs layer \n",
      "\u001b[1B619a13bc: Pulling fs layer \n",
      "\u001b[1B2bd4fd2a: Pulling fs layer \n",
      "\u001b[1B729e5c24: Pulling fs layer \n",
      "\u001b[1B7763aadd: Pulling fs layer \n",
      "\u001b[1Bb689cc10: Pulling fs layer \n",
      "\u001b[1B50a35261: Pulling fs layer \n",
      "\u001b[1B7914511d: Pulling fs layer \n",
      "\u001b[1Bb1e50e24: Pulling fs layer \n",
      "\u001b[1B985fe809: Pulling fs layer \n",
      "\u001b[1B833c5b8a: Pulling fs layer \n",
      "\u001b[1Bc6c02ab1: Pulling fs layer \n",
      "\u001b[1Bb31e18f2: Pulling fs layer \n",
      "\u001b[1B5eb60a51: Pulling fs layer \n",
      "\u001b[1B207f9a7c: Pulling fs layer \n",
      "\u001b[1B692cef5b: Pulling fs layer \n",
      "\u001b[1Bc2aee86b: Pulling fs layer \n",
      "\u001b[1Ba507301c: Pulling fs layer \n",
      "\u001b[1B0c71ce80: Pulling fs layer \n",
      "\u001b[1Be9189cf0: Pulling fs layer \n",
      "\u001b[1B03e10cc9: Pulling fs layer \n",
      "\u001b[1Bc50aa9f7: Pulling fs layer \n",
      "\u001b[1B25d267e8: Pulling fs layer \n",
      "\u001b[1B028736ad: Pulling fs layer \n",
      "\u001b[1B508b2381: Pulling fs layer \n",
      "\u001b[1Bd527beb4: Pulling fs layer \n",
      "\u001b[1Ba28bcfff: Pulling fs layer \n",
      "\u001b[1B84b55287: Pulling fs layer \n",
      "\u001b[1Be288f1a3: Pulling fs layer \n",
      "\u001b[1B55ae2b21: Pulling fs layer \n",
      "\u001b[1B4a2d70a8: Pulling fs layer \n",
      "\u001b[1B66a1c333: Pulling fs layer \n",
      "\u001b[1B9571128b: Pulling fs layer \n",
      "\u001b[1Bb081c30d: Pulling fs layer \n",
      "\u001b[1Beb946c0d: Pull complete  531B/531B5kBB\u001b[41A\u001b[2K\u001b[42A\u001b[2K\u001b[42A\u001b[2K\u001b[43A\u001b[2K\u001b[39A\u001b[2K\u001b[43A\u001b[2K\u001b[43A\u001b[2K\u001b[39A\u001b[2K\u001b[39A\u001b[2K\u001b[38A\u001b[2K\u001b[43A\u001b[2K\u001b[39A\u001b[2K\u001b[43A\u001b[2K\u001b[38A\u001b[2K\u001b[43A\u001b[2K\u001b[37A\u001b[2K\u001b[43A\u001b[2K\u001b[38A\u001b[2K\u001b[37A\u001b[2K\u001b[38A\u001b[2K\u001b[39A\u001b[2K\u001b[43A\u001b[2K\u001b[39A\u001b[2K\u001b[43A\u001b[2K\u001b[36A\u001b[2K\u001b[43A\u001b[2K\u001b[36A\u001b[2K\u001b[38A\u001b[2K\u001b[39A\u001b[2K\u001b[43A\u001b[2K\u001b[39A\u001b[2K\u001b[43A\u001b[2K\u001b[39A\u001b[2K\u001b[38A\u001b[2K\u001b[34A\u001b[2K\u001b[38A\u001b[2K\u001b[34A\u001b[2K\u001b[38A\u001b[2K\u001b[34A\u001b[2K\u001b[39A\u001b[2K\u001b[34A\u001b[2K\u001b[38A\u001b[2K\u001b[39A\u001b[2K\u001b[38A\u001b[2K\u001b[34A\u001b[2K\u001b[38A\u001b[2K\u001b[34A\u001b[2K\u001b[38A\u001b[2K\u001b[34A\u001b[2K\u001b[39A\u001b[2K\u001b[34A\u001b[2K\u001b[39A\u001b[2K\u001b[34A\u001b[2K\u001b[43A\u001b[2K\u001b[34A\u001b[2K\u001b[39A\u001b[2K\u001b[43A\u001b[2K\u001b[39A\u001b[2K\u001b[34A\u001b[2K\u001b[39A\u001b[2K\u001b[34A\u001b[2K\u001b[39A\u001b[2K\u001b[34A\u001b[2K\u001b[39A\u001b[2K\u001b[38A\u001b[2K\u001b[42A\u001b[2K\u001b[34A\u001b[2K\u001b[33A\u001b[2K\u001b[34A\u001b[2K\u001b[32A\u001b[2K\u001b[34A\u001b[2K\u001b[34A\u001b[2K\u001b[31A\u001b[2K\u001b[34A\u001b[2K\u001b[30A\u001b[2K\u001b[34A\u001b[2K\u001b[34A\u001b[2K\u001b[29A\u001b[2K\u001b[34A\u001b[2K\u001b[42A\u001b[2K\u001b[34A\u001b[2K\u001b[41A\u001b[2K\u001b[34A\u001b[2K\u001b[27A\u001b[2K\u001b[39A\u001b[2K\u001b[41A\u001b[2K\u001b[26A\u001b[2K\u001b[39A\u001b[2K\u001b[24A\u001b[2K\u001b[40A\u001b[2K\u001b[23A\u001b[2K\u001b[22A\u001b[2K\u001b[20A\u001b[2K\u001b[21A\u001b[2K\u001b[19A\u001b[2K\u001b[18A\u001b[2K\u001b[19A\u001b[2K\u001b[39A\u001b[2K\u001b[19A\u001b[2K\u001b[19A\u001b[2K\u001b[19A\u001b[2K\u001b[15A\u001b[2K\u001b[39A\u001b[2K\u001b[19A\u001b[2K\u001b[39A\u001b[2K\u001b[19A\u001b[2K\u001b[19A\u001b[2K\u001b[19A\u001b[2K\u001b[19A\u001b[2K\u001b[19A\u001b[2K\u001b[19A\u001b[2K\u001b[19A\u001b[2K\u001b[19A\u001b[2K\u001b[39A\u001b[2K\u001b[19A\u001b[2K\u001b[39A\u001b[2K\u001b[19A\u001b[2K\u001b[19A\u001b[2K\u001b[39A\u001b[2K\u001b[19A\u001b[2K\u001b[15A\u001b[2K\u001b[19A\u001b[2K\u001b[39A\u001b[2K\u001b[19A\u001b[2K\u001b[15A\u001b[2K\u001b[19A\u001b[2K\u001b[15A\u001b[2K\u001b[19A\u001b[2K\u001b[15A\u001b[2K\u001b[19A\u001b[2K\u001b[15A\u001b[2K\u001b[19A\u001b[2K\u001b[39A\u001b[2K\u001b[19A\u001b[2K\u001b[15A\u001b[2K\u001b[19A\u001b[2K\u001b[15A\u001b[2K\u001b[39A\u001b[2K\u001b[15A\u001b[2K\u001b[17A\u001b[2K\u001b[15A\u001b[2K\u001b[19A\u001b[2K\u001b[15A\u001b[2K\u001b[17A\u001b[2K\u001b[15A\u001b[2K\u001b[19A\u001b[2K\u001b[15A\u001b[2K\u001b[19A\u001b[2K\u001b[15A\u001b[2K\u001b[19A\u001b[2K\u001b[39A\u001b[2K\u001b[19A\u001b[2K\u001b[15A\u001b[2K\u001b[39A\u001b[2K\u001b[15A\u001b[2K\u001b[19A\u001b[2K\u001b[15A\u001b[2K\u001b[19A\u001b[2K\u001b[15A\u001b[2K\u001b[19A\u001b[2K\u001b[15A\u001b[2K\u001b[19A\u001b[2K\u001b[15A\u001b[2K\u001b[19A\u001b[2K\u001b[15A\u001b[2K\u001b[19A\u001b[2K\u001b[15A\u001b[2K\u001b[19A\u001b[2K\u001b[15A\u001b[2K\u001b[19A\u001b[2K\u001b[15A\u001b[2K\u001b[19A\u001b[2K\u001b[15A\u001b[2K\u001b[19A\u001b[2K\u001b[15A\u001b[2K\u001b[19A\u001b[2K\u001b[17A\u001b[2K\u001b[19A\u001b[2K\u001b[39A\u001b[2K\u001b[19A\u001b[2K\u001b[39A\u001b[2K\u001b[19A\u001b[2K\u001b[15A\u001b[2K\u001b[19A\u001b[2K\u001b[17A\u001b[2K\u001b[39A\u001b[2K\u001b[17A\u001b[2K\u001b[39A\u001b[2K\u001b[17A\u001b[2K\u001b[13A\u001b[2K\u001b[17A\u001b[2K\u001b[19A\u001b[2K\u001b[12A\u001b[2K\u001b[19A\u001b[2K\u001b[39A\u001b[2K\u001b[19A\u001b[2K\u001b[39A\u001b[2K\u001b[39A\u001b[2K\u001b[9A\u001b[2K\u001b[17A\u001b[2K\u001b[39A\u001b[2K\u001b[17A\u001b[2K\u001b[39A\u001b[2K\u001b[17A\u001b[2K\u001b[8A\u001b[2K\u001b[39A\u001b[2K\u001b[8A\u001b[2K\u001b[39A\u001b[2K\u001b[7A\u001b[2K\u001b[17A\u001b[2K\u001b[8A\u001b[2K\u001b[17A\u001b[2K\u001b[39A\u001b[2K\u001b[17A\u001b[2K\u001b[6A\u001b[2K\u001b[17A\u001b[2K\u001b[39A\u001b[2K\u001b[17A\u001b[2K\u001b[39A\u001b[2K\u001b[17A\u001b[2K\u001b[4A\u001b[2K\u001b[17A\u001b[2K\u001b[3A\u001b[2K\u001b[39A\u001b[2K\u001b[2A\u001b[2K\u001b[39A\u001b[2K\u001b[17A\u001b[2K\u001b[17A\u001b[2K\u001b[17A\u001b[2K\u001b[17A\u001b[2K\u001b[39A\u001b[2K\u001b[17A\u001b[2K\u001b[39A\u001b[2K\u001b[17A\u001b[2K\u001b[39A\u001b[2K\u001b[17A\u001b[2K\u001b[17A\u001b[2K\u001b[17A\u001b[2K\u001b[17A\u001b[2K\u001b[17A\u001b[2K\u001b[39A\u001b[2K\u001b[17A\u001b[2K\u001b[39A\u001b[2K\u001b[17A\u001b[2K\u001b[17A\u001b[2K\u001b[17A\u001b[2K\u001b[39A\u001b[2K\u001b[17A\u001b[2K\u001b[39A\u001b[2K\u001b[39A\u001b[2K\u001b[39A\u001b[2K\u001b[39A\u001b[2K\u001b[39A\u001b[2K\u001b[39A\u001b[2K\u001b[39A\u001b[2K\u001b[39A\u001b[2K\u001b[39A\u001b[2K\u001b[39A\u001b[2K\u001b[39A\u001b[2K\u001b[39A\u001b[2K\u001b[39A\u001b[2K\u001b[39A\u001b[2K\u001b[39A\u001b[2K\u001b[39A\u001b[2K\u001b[39A\u001b[2K\u001b[39A\u001b[2K\u001b[39A\u001b[2K\u001b[39A\u001b[2K\u001b[39A\u001b[2K\u001b[39A\u001b[2K\u001b[39A\u001b[2K\u001b[39A\u001b[2K\u001b[39A\u001b[2K\u001b[39A\u001b[2K\u001b[39A\u001b[2K\u001b[39A\u001b[2K\u001b[39A\u001b[2K\u001b[39A\u001b[2K\u001b[39A\u001b[2K\u001b[39A\u001b[2K\u001b[39A\u001b[2K\u001b[39A\u001b[2K\u001b[39A\u001b[2K\u001b[39A\u001b[2K\u001b[39A\u001b[2K\u001b[39A\u001b[2K\u001b[39A\u001b[2K\u001b[39A\u001b[2K\u001b[39A\u001b[2K\u001b[39A\u001b[2K\u001b[39A\u001b[2K\u001b[39A\u001b[2K\u001b[39A\u001b[2K\u001b[39A\u001b[2K\u001b[39A\u001b[2K\u001b[39A\u001b[2K\u001b[39A\u001b[2K\u001b[39A\u001b[2K\u001b[39A\u001b[2K\u001b[39A\u001b[2K\u001b[39A\u001b[2K\u001b[39A\u001b[2K\u001b[39A\u001b[2K\u001b[39A\u001b[2K\u001b[39A\u001b[2K\u001b[39A\u001b[2K\u001b[39A\u001b[2K\u001b[39A\u001b[2K\u001b[39A\u001b[2K\u001b[39A\u001b[2K\u001b[39A\u001b[2K\u001b[39A\u001b[2K\u001b[39A\u001b[2K\u001b[39A\u001b[2K\u001b[39A\u001b[2K\u001b[39A\u001b[2K\u001b[39A\u001b[2K\u001b[39A\u001b[2K\u001b[39A\u001b[2K\u001b[39A\u001b[2K\u001b[39A\u001b[2K\u001b[39A\u001b[2K\u001b[39A\u001b[2K\u001b[39A\u001b[2K\u001b[39A\u001b[2K\u001b[39A\u001b[2K\u001b[39A\u001b[2K\u001b[39A\u001b[2K\u001b[39A\u001b[2K\u001b[39A\u001b[2K\u001b[39A\u001b[2K\u001b[39A\u001b[2K\u001b[39A\u001b[2K\u001b[39A\u001b[2K\u001b[39A\u001b[2K\u001b[39A\u001b[2K\u001b[39A\u001b[2K\u001b[39A\u001b[2K\u001b[38A\u001b[2K\u001b[38A\u001b[2K\u001b[38A\u001b[2K\u001b[38A\u001b[2K\u001b[38A\u001b[2K\u001b[38A\u001b[2K\u001b[38A\u001b[2K\u001b[38A\u001b[2K\u001b[38A\u001b[2K\u001b[38A\u001b[2K\u001b[38A\u001b[2K\u001b[38A\u001b[2K\u001b[38A\u001b[2K\u001b[38A\u001b[2K\u001b[38A\u001b[2K\u001b[38A\u001b[2K\u001b[38A\u001b[2K\u001b[38A\u001b[2K\u001b[38A\u001b[2K\u001b[38A\u001b[2K\u001b[38A\u001b[2K\u001b[38A\u001b[2K\u001b[38A\u001b[2K\u001b[38A\u001b[2K\u001b[38A\u001b[2K\u001b[38A\u001b[2K\u001b[38A\u001b[2K\u001b[38A\u001b[2K\u001b[38A\u001b[2K\u001b[38A\u001b[2K\u001b[38A\u001b[2K\u001b[38A\u001b[2K\u001b[38A\u001b[2K\u001b[38A\u001b[2K\u001b[38A\u001b[2K\u001b[38A\u001b[2K\u001b[38A\u001b[2K\u001b[38A\u001b[2K\u001b[38A\u001b[2K\u001b[38A\u001b[2K\u001b[38A\u001b[2K\u001b[38A\u001b[2K\u001b[38A\u001b[2K\u001b[38A\u001b[2K\u001b[38A\u001b[2K\u001b[38A\u001b[2K\u001b[38A\u001b[2K\u001b[38A\u001b[2K\u001b[38A\u001b[2K\u001b[38A\u001b[2K\u001b[38A\u001b[2K\u001b[38A\u001b[2K\u001b[38A\u001b[2K\u001b[38A\u001b[2K\u001b[38A\u001b[2K\u001b[38A\u001b[2K\u001b[38A\u001b[2K\u001b[38A\u001b[2K\u001b[38A\u001b[2K\u001b[38A\u001b[2K\u001b[38A\u001b[2K\u001b[38A\u001b[2K\u001b[38A\u001b[2K\u001b[38A\u001b[2K\u001b[38A\u001b[2K\u001b[38A\u001b[2K\u001b[38A\u001b[2K\u001b[38A\u001b[2K\u001b[38A\u001b[2K\u001b[38A\u001b[2K\u001b[38A\u001b[2K\u001b[38A\u001b[2K\u001b[38A\u001b[2K\u001b[38A\u001b[2K\u001b[38A\u001b[2K\u001b[38A\u001b[2K\u001b[38A\u001b[2K\u001b[38A\u001b[2K\u001b[38A\u001b[2K\u001b[38A\u001b[2K\u001b[38A\u001b[2K\u001b[38A\u001b[2K\u001b[38A\u001b[2K\u001b[38A\u001b[2K\u001b[38A\u001b[2K\u001b[38A\u001b[2K\u001b[38A\u001b[2K\u001b[38A\u001b[2K\u001b[38A\u001b[2K\u001b[38A\u001b[2K\u001b[38A\u001b[2K\u001b[38A\u001b[2K\u001b[38A\u001b[2K\u001b[38A\u001b[2K\u001b[38A\u001b[2K\u001b[38A\u001b[2K\u001b[38A\u001b[2K\u001b[38A\u001b[2K\u001b[38A\u001b[2K\u001b[38A\u001b[2K\u001b[38A\u001b[2K\u001b[38A\u001b[2K\u001b[38A\u001b[2K\u001b[38A\u001b[2K\u001b[38A\u001b[2K\u001b[38A\u001b[2K\u001b[38A\u001b[2K\u001b[38A\u001b[2K\u001b[38A\u001b[2K\u001b[38A\u001b[2K\u001b[37A\u001b[2K\u001b[37A\u001b[2K\u001b[37A\u001b[2K\u001b[37A\u001b[2K\u001b[37A\u001b[2K\u001b[37A\u001b[2K\u001b[37A\u001b[2K\u001b[36A\u001b[2K\u001b[36A\u001b[2K\u001b[36A\u001b[2K\u001b[36A\u001b[2K\u001b[36A\u001b[2K\u001b[35A\u001b[2K\u001b[34A\u001b[2K\u001b[34A\u001b[2K\u001b[34A\u001b[2K\u001b[34A\u001b[2K\u001b[34A\u001b[2K\u001b[34A\u001b[2K\u001b[34A\u001b[2K\u001b[34A\u001b[2K\u001b[34A\u001b[2K\u001b[34A\u001b[2K\u001b[34A\u001b[2K\u001b[34A\u001b[2K\u001b[34A\u001b[2K\u001b[34A\u001b[2K\u001b[34A\u001b[2K\u001b[34A\u001b[2K\u001b[34A\u001b[2K\u001b[34A\u001b[2K\u001b[34A\u001b[2K\u001b[34A\u001b[2K\u001b[34A\u001b[2K\u001b[34A\u001b[2K\u001b[34A\u001b[2K\u001b[34A\u001b[2K\u001b[34A\u001b[2K\u001b[34A\u001b[2K\u001b[34A\u001b[2K\u001b[34A\u001b[2K\u001b[34A\u001b[2K\u001b[34A\u001b[2K\u001b[34A\u001b[2K\u001b[34A\u001b[2K\u001b[34A\u001b[2K\u001b[34A\u001b[2K\u001b[34A\u001b[2K\u001b[34A\u001b[2K\u001b[34A\u001b[2K\u001b[34A\u001b[2K\u001b[34A\u001b[2K\u001b[34A\u001b[2K\u001b[34A\u001b[2K\u001b[34A\u001b[2K\u001b[34A\u001b[2K\u001b[34A\u001b[2K\u001b[34A\u001b[2K\u001b[34A\u001b[2K\u001b[34A\u001b[2K\u001b[34A\u001b[2K\u001b[34A\u001b[2K\u001b[34A\u001b[2K\u001b[33A\u001b[2K\u001b[33A\u001b[2K\u001b[32A\u001b[2K\u001b[32A\u001b[2K\u001b[31A\u001b[2K\u001b[31A\u001b[2K\u001b[30A\u001b[2K\u001b[30A\u001b[2K\u001b[29A\u001b[2K\u001b[29A\u001b[2K\u001b[28A\u001b[2K\u001b[28A\u001b[2K\u001b[27A\u001b[2K\u001b[27A\u001b[2K\u001b[26A\u001b[2K\u001b[25A\u001b[2K\u001b[24A\u001b[2K\u001b[24A\u001b[2K\u001b[23A\u001b[2K\u001b[22A\u001b[2K\u001b[21A\u001b[2K\u001b[21A\u001b[2K\u001b[20A\u001b[2K\u001b[19A\u001b[2K\u001b[19A\u001b[2K\u001b[19A\u001b[2K\u001b[19A\u001b[2K\u001b[19A\u001b[2K\u001b[19A\u001b[2K\u001b[19A\u001b[2K\u001b[19A\u001b[2K\u001b[19A\u001b[2K\u001b[19A\u001b[2K\u001b[19A\u001b[2K\u001b[19A\u001b[2K\u001b[19A\u001b[2K\u001b[19A\u001b[2K\u001b[19A\u001b[2K\u001b[19A\u001b[2K\u001b[19A\u001b[2K\u001b[19A\u001b[2K\u001b[19A\u001b[2K\u001b[19A\u001b[2K\u001b[19A\u001b[2K\u001b[19A\u001b[2K\u001b[19A\u001b[2K\u001b[19A\u001b[2K\u001b[19A\u001b[2K\u001b[19A\u001b[2K\u001b[19A\u001b[2K\u001b[19A\u001b[2K\u001b[19A\u001b[2K\u001b[19A\u001b[2K\u001b[19A\u001b[2K\u001b[19A\u001b[2K\u001b[19A\u001b[2K\u001b[19A\u001b[2K\u001b[19A\u001b[2K\u001b[19A\u001b[2K\u001b[19A\u001b[2K\u001b[19A\u001b[2K\u001b[19A\u001b[2K\u001b[19A\u001b[2K\u001b[19A\u001b[2K\u001b[19A\u001b[2K\u001b[19A\u001b[2K\u001b[19A\u001b[2K\u001b[19A\u001b[2K\u001b[19A\u001b[2K\u001b[19A\u001b[2K\u001b[19A\u001b[2K\u001b[19A\u001b[2K\u001b[19A\u001b[2K\u001b[19A\u001b[2K\u001b[19A\u001b[2K\u001b[19A\u001b[2K\u001b[19A\u001b[2K\u001b[19A\u001b[2K\u001b[19A\u001b[2K\u001b[19A\u001b[2K\u001b[19A\u001b[2K\u001b[19A\u001b[2K\u001b[19A\u001b[2K\u001b[19A\u001b[2K\u001b[19A\u001b[2K\u001b[19A\u001b[2K\u001b[19A\u001b[2K\u001b[19A\u001b[2K\u001b[19A\u001b[2K\u001b[19A\u001b[2K\u001b[19A\u001b[2K\u001b[19A\u001b[2K\u001b[19A\u001b[2K\u001b[19A\u001b[2K\u001b[19A\u001b[2K\u001b[19A\u001b[2K\u001b[19A\u001b[2K\u001b[19A\u001b[2K\u001b[19A\u001b[2K\u001b[19A\u001b[2K\u001b[19A\u001b[2K\u001b[19A\u001b[2K\u001b[19A\u001b[2K\u001b[19A\u001b[2K\u001b[19A\u001b[2K\u001b[18A\u001b[2K\u001b[18A\u001b[2K\u001b[18A\u001b[2K\u001b[18A\u001b[2K\u001b[18A\u001b[2K\u001b[17A\u001b[2K\u001b[17A\u001b[2K\u001b[17A\u001b[2K\u001b[17A\u001b[2K\u001b[17A\u001b[2K\u001b[17A\u001b[2K\u001b[17A\u001b[2K\u001b[17A\u001b[2K\u001b[17A\u001b[2K\u001b[17A\u001b[2K\u001b[17A\u001b[2K\u001b[17A\u001b[2K\u001b[17A\u001b[2K\u001b[17A\u001b[2K\u001b[17A\u001b[2K\u001b[17A\u001b[2K\u001b[17A\u001b[2K\u001b[17A\u001b[2K\u001b[17A\u001b[2K\u001b[17A\u001b[2K\u001b[17A\u001b[2K\u001b[17A\u001b[2K\u001b[17A\u001b[2K\u001b[17A\u001b[2K\u001b[17A\u001b[2K\u001b[17A\u001b[2K\u001b[17A\u001b[2K\u001b[17A\u001b[2K\u001b[17A\u001b[2K\u001b[17A\u001b[2K\u001b[17A\u001b[2K\u001b[17A\u001b[2K\u001b[17A\u001b[2K\u001b[17A\u001b[2K\u001b[17A\u001b[2K\u001b[17A\u001b[2K\u001b[17A\u001b[2K\u001b[17A\u001b[2K\u001b[17A\u001b[2K\u001b[17A\u001b[2K\u001b[17A\u001b[2K\u001b[17A\u001b[2K\u001b[17A\u001b[2K\u001b[17A\u001b[2K\u001b[17A\u001b[2K\u001b[17A\u001b[2K\u001b[17A\u001b[2K\u001b[17A\u001b[2K\u001b[17A\u001b[2K\u001b[17A\u001b[2K\u001b[17A\u001b[2K\u001b[17A\u001b[2K\u001b[17A\u001b[2K\u001b[17A\u001b[2K\u001b[17A\u001b[2K\u001b[17A\u001b[2K\u001b[17A\u001b[2K\u001b[17A\u001b[2K\u001b[17A\u001b[2K\u001b[17A\u001b[2K\u001b[17A\u001b[2K\u001b[17A\u001b[2K\u001b[17A\u001b[2K\u001b[17A\u001b[2K\u001b[17A\u001b[2K\u001b[17A\u001b[2K\u001b[17A\u001b[2K\u001b[17A\u001b[2K\u001b[17A\u001b[2K\u001b[17A\u001b[2K\u001b[17A\u001b[2K\u001b[17A\u001b[2K\u001b[17A\u001b[2K\u001b[17A\u001b[2K\u001b[17A\u001b[2K\u001b[17A\u001b[2K\u001b[17A\u001b[2K\u001b[17A\u001b[2K\u001b[17A\u001b[2K\u001b[17A\u001b[2K\u001b[17A\u001b[2K\u001b[17A\u001b[2K\u001b[17A\u001b[2K\u001b[17A\u001b[2K\u001b[17A\u001b[2K\u001b[17A\u001b[2K\u001b[17A\u001b[2K\u001b[17A\u001b[2K\u001b[17A\u001b[2K\u001b[17A\u001b[2K\u001b[17A\u001b[2K\u001b[17A\u001b[2K\u001b[17A\u001b[2K\u001b[17A\u001b[2K\u001b[17A\u001b[2K\u001b[17A\u001b[2K\u001b[17A\u001b[2K\u001b[17A\u001b[2K\u001b[17A\u001b[2K\u001b[17A\u001b[2K\u001b[17A\u001b[2K\u001b[17A\u001b[2K\u001b[17A\u001b[2K\u001b[17A\u001b[2K\u001b[17A\u001b[2K\u001b[17A\u001b[2K\u001b[17A\u001b[2K\u001b[17A\u001b[2K\u001b[17A\u001b[2K\u001b[17A\u001b[2K\u001b[17A\u001b[2K\u001b[17A\u001b[2K\u001b[17A\u001b[2K\u001b[17A\u001b[2K\u001b[17A\u001b[2K\u001b[17A\u001b[2K\u001b[17A\u001b[2K\u001b[17A\u001b[2K\u001b[17A\u001b[2K\u001b[17A\u001b[2K\u001b[17A\u001b[2K\u001b[17A\u001b[2K\u001b[17A\u001b[2K\u001b[17A\u001b[2K\u001b[17A\u001b[2K\u001b[17A\u001b[2K\u001b[17A\u001b[2K\u001b[17A\u001b[2K\u001b[17A\u001b[2K\u001b[17A\u001b[2K\u001b[17A\u001b[2K\u001b[17A\u001b[2K\u001b[17A\u001b[2K\u001b[17A\u001b[2K\u001b[17A\u001b[2K\u001b[17A\u001b[2K\u001b[17A\u001b[2K\u001b[17A\u001b[2K\u001b[17A\u001b[2K\u001b[17A\u001b[2K\u001b[17A\u001b[2K\u001b[17A\u001b[2K\u001b[17A\u001b[2K\u001b[17A\u001b[2K\u001b[17A\u001b[2K\u001b[17A\u001b[2K\u001b[17A\u001b[2K\u001b[17A\u001b[2K\u001b[17A\u001b[2K\u001b[17A\u001b[2K\u001b[17A\u001b[2K\u001b[17A\u001b[2K\u001b[17A\u001b[2K\u001b[17A\u001b[2K\u001b[17A\u001b[2K\u001b[17A\u001b[2K\u001b[17A\u001b[2K\u001b[17A\u001b[2K\u001b[17A\u001b[2K\u001b[17A\u001b[2K\u001b[17A\u001b[2K\u001b[17A\u001b[2K\u001b[17A\u001b[2K\u001b[17A\u001b[2K\u001b[17A\u001b[2K\u001b[17A\u001b[2K\u001b[17A\u001b[2K\u001b[17A\u001b[2K\u001b[17A\u001b[2K\u001b[17A\u001b[2K\u001b[17A\u001b[2K\u001b[17A\u001b[2K\u001b[17A\u001b[2K\u001b[17A\u001b[2K\u001b[17A\u001b[2K\u001b[17A\u001b[2K\u001b[17A\u001b[2K\u001b[17A\u001b[2K\u001b[17A\u001b[2K\u001b[17A\u001b[2K\u001b[17A\u001b[2K\u001b[17A\u001b[2K\u001b[17A\u001b[2K\u001b[17A\u001b[2K\u001b[17A\u001b[2K\u001b[17A\u001b[2K\u001b[17A\u001b[2K\u001b[17A\u001b[2K\u001b[17A\u001b[2K\u001b[17A\u001b[2K\u001b[17A\u001b[2K\u001b[17A\u001b[2K\u001b[17A\u001b[2K\u001b[17A\u001b[2K\u001b[17A\u001b[2K\u001b[17A\u001b[2K\u001b[17A\u001b[2K\u001b[17A\u001b[2K\u001b[17A\u001b[2K\u001b[17A\u001b[2K\u001b[17A\u001b[2K\u001b[17A\u001b[2K\u001b[17A\u001b[2K\u001b[17A\u001b[2K\u001b[17A\u001b[2K\u001b[17A\u001b[2K\u001b[17A\u001b[2K\u001b[17A\u001b[2K\u001b[17A\u001b[2K\u001b[17A\u001b[2K\u001b[17A\u001b[2K\u001b[17A\u001b[2K\u001b[17A\u001b[2K\u001b[17A\u001b[2K\u001b[17A\u001b[2K\u001b[17A\u001b[2K\u001b[17A\u001b[2K\u001b[17A\u001b[2K\u001b[17A\u001b[2K\u001b[17A\u001b[2K\u001b[17A\u001b[2K\u001b[17A\u001b[2K\u001b[17A\u001b[2K\u001b[17A\u001b[2K\u001b[17A\u001b[2K\u001b[17A\u001b[2K\u001b[17A\u001b[2K\u001b[17A\u001b[2K\u001b[17A\u001b[2K\u001b[17A\u001b[2K\u001b[17A\u001b[2K\u001b[17A\u001b[2K\u001b[17A\u001b[2K\u001b[17A\u001b[2K\u001b[17A\u001b[2K\u001b[17A\u001b[2K\u001b[17A\u001b[2K\u001b[17A\u001b[2K\u001b[17A\u001b[2K\u001b[17A\u001b[2K\u001b[17A\u001b[2K\u001b[17A\u001b[2K\u001b[17A\u001b[2K\u001b[17A\u001b[2K\u001b[17A\u001b[2K\u001b[17A\u001b[2K\u001b[17A\u001b[2K\u001b[17A\u001b[2K\u001b[17A\u001b[2K\u001b[17A\u001b[2K\u001b[17A\u001b[2K\u001b[17A\u001b[2K\u001b[17A\u001b[2K\u001b[17A\u001b[2K\u001b[17A\u001b[2K\u001b[17A\u001b[2K\u001b[17A\u001b[2K\u001b[17A\u001b[2K\u001b[17A\u001b[2K\u001b[17A\u001b[2K\u001b[17A\u001b[2K\u001b[17A\u001b[2K\u001b[17A\u001b[2K\u001b[17A\u001b[2K\u001b[17A\u001b[2K\u001b[17A\u001b[2K\u001b[17A\u001b[2K\u001b[17A\u001b[2K\u001b[17A\u001b[2K\u001b[17A\u001b[2K\u001b[17A\u001b[2K\u001b[17A\u001b[2K\u001b[17A\u001b[2K\u001b[16A\u001b[2K\u001b[15A\u001b[2K\u001b[15A\u001b[2K\u001b[15A\u001b[2K\u001b[15A\u001b[2K\u001b[15A\u001b[2K\u001b[15A\u001b[2K\u001b[15A\u001b[2K\u001b[15A\u001b[2K\u001b[15A\u001b[2K\u001b[15A\u001b[2K\u001b[15A\u001b[2K\u001b[15A\u001b[2K\u001b[15A\u001b[2K\u001b[15A\u001b[2K\u001b[15A\u001b[2K\u001b[15A\u001b[2K\u001b[15A\u001b[2K\u001b[15A\u001b[2K\u001b[15A\u001b[2K\u001b[15A\u001b[2K\u001b[15A\u001b[2K\u001b[15A\u001b[2K\u001b[15A\u001b[2K\u001b[15A\u001b[2K\u001b[15A\u001b[2K\u001b[15A\u001b[2K\u001b[15A\u001b[2K\u001b[15A\u001b[2K\u001b[15A\u001b[2K\u001b[15A\u001b[2K\u001b[15A\u001b[2K\u001b[15A\u001b[2K\u001b[15A\u001b[2K\u001b[15A\u001b[2K\u001b[15A\u001b[2K\u001b[15A\u001b[2K\u001b[15A\u001b[2K\u001b[15A\u001b[2K\u001b[15A\u001b[2K\u001b[15A\u001b[2K\u001b[15A\u001b[2K\u001b[15A\u001b[2K\u001b[15A\u001b[2K\u001b[15A\u001b[2K\u001b[15A\u001b[2K\u001b[15A\u001b[2K\u001b[15A\u001b[2K\u001b[15A\u001b[2K\u001b[15A\u001b[2K\u001b[15A\u001b[2K\u001b[15A\u001b[2K\u001b[15A\u001b[2K\u001b[15A\u001b[2K\u001b[15A\u001b[2K\u001b[15A\u001b[2K\u001b[15A\u001b[2K\u001b[15A\u001b[2K\u001b[15A\u001b[2K\u001b[15A\u001b[2K\u001b[15A\u001b[2K\u001b[15A\u001b[2K\u001b[15A\u001b[2K\u001b[15A\u001b[2K\u001b[15A\u001b[2K\u001b[15A\u001b[2K\u001b[15A\u001b[2K\u001b[15A\u001b[2K\u001b[15A\u001b[2K\u001b[15A\u001b[2K\u001b[15A\u001b[2K\u001b[14A\u001b[2K\u001b[13A\u001b[2K\u001b[12A\u001b[2K\u001b[11A\u001b[2K\u001b[11A\u001b[2K\u001b[11A\u001b[2K\u001b[11A\u001b[2K\u001b[10A\u001b[2K\u001b[9A\u001b[2K\u001b[9A\u001b[2K\u001b[9A\u001b[2K\u001b[8A\u001b[2K\u001b[8A\u001b[2K\u001b[8A\u001b[2K\u001b[8A\u001b[2K\u001b[8A\u001b[2K\u001b[8A\u001b[2K\u001b[7A\u001b[2K\u001b[7A\u001b[2K\u001b[7A\u001b[2K\u001b[7A\u001b[2K\u001b[7A\u001b[2K\u001b[7A\u001b[2K\u001b[7A\u001b[2K\u001b[7A\u001b[2K\u001b[7A\u001b[2K\u001b[7A\u001b[2K\u001b[7A\u001b[2K\u001b[7A\u001b[2K\u001b[7A\u001b[2K\u001b[7A\u001b[2K\u001b[7A\u001b[2K\u001b[7A\u001b[2K\u001b[7A\u001b[2K\u001b[7A\u001b[2K\u001b[7A\u001b[2K\u001b[7A\u001b[2K\u001b[7A\u001b[2K\u001b[7A\u001b[2K\u001b[7A\u001b[2K\u001b[7A\u001b[2K\u001b[7A\u001b[2K\u001b[7A\u001b[2K\u001b[7A\u001b[2K\u001b[7A\u001b[2K\u001b[7A\u001b[2K\u001b[7A\u001b[2K\u001b[7A\u001b[2K\u001b[7A\u001b[2K\u001b[7A\u001b[2K\u001b[7A\u001b[2K\u001b[7A\u001b[2K\u001b[7A\u001b[2K\u001b[7A\u001b[2K\u001b[7A\u001b[2K\u001b[7A\u001b[2K\u001b[7A\u001b[2K\u001b[7A\u001b[2K\u001b[7A\u001b[2K\u001b[7A\u001b[2K\u001b[7A\u001b[2K\u001b[7A\u001b[2K\u001b[7A\u001b[2K\u001b[7A\u001b[2K\u001b[7A\u001b[2K\u001b[7A\u001b[2K\u001b[7A\u001b[2K\u001b[7A\u001b[2K\u001b[7A\u001b[2K\u001b[7A\u001b[2K\u001b[7A\u001b[2K\u001b[7A\u001b[2K\u001b[7A\u001b[2K\u001b[7A\u001b[2K\u001b[7A\u001b[2K\u001b[7A\u001b[2K\u001b[7A\u001b[2K\u001b[7A\u001b[2K\u001b[7A\u001b[2K\u001b[7A\u001b[2K\u001b[7A\u001b[2K\u001b[7A\u001b[2K\u001b[7A\u001b[2K\u001b[7A\u001b[2K\u001b[7A\u001b[2K\u001b[7A\u001b[2K\u001b[7A\u001b[2K\u001b[6A\u001b[2K\u001b[6A\u001b[2K\u001b[6A\u001b[2K\u001b[5A\u001b[2K\u001b[4A\u001b[2K\u001b[3A\u001b[2K\u001b[2A\u001b[2K\u001b[1A\u001b[2KDigest: sha256:e407ca383b263c7ae9f0626bada786dd40a555bad11895897dabe03133be48ce\n",
      "Status: Downloaded newer image for us-central1-docker.pkg.dev/demos-vertex-ai/rstudio/rstudio:latest\n",
      "us-central1-docker.pkg.dev/demos-vertex-ai/rstudio/rstudio:latest\n"
     ]
    }
   ],
   "source": [
    "! docker pull \\\n",
    "    us-central1-docker.pkg.dev/demos-vertex-ai/rstudio/rstudio:latest"
   ]
  },
  {
   "cell_type": "code",
   "execution_count": null,
   "id": "6eae4de1-4627-43f4-b6bc-8c6e6ecc6905",
   "metadata": {},
   "outputs": [],
   "source": [
    "# cloud shell\n",
    "# gcloud auth configure-docker us-central1-docker.pkg.dev --quiet\n",
    "# docker pull us-central1-docker.pkg.dev/demos-vertex-ai/rstudio/rstudio:latest"
   ]
  }
 ],
 "metadata": {
  "kernelspec": {
   "display_name": "Python 3 (Local)",
   "language": "python",
   "name": "local-python3"
  },
  "language_info": {
   "codemirror_mode": {
    "name": "ipython",
    "version": 3
   },
   "file_extension": ".py",
   "mimetype": "text/x-python",
   "name": "python",
   "nbconvert_exporter": "python",
   "pygments_lexer": "ipython3",
   "version": "3.7.12"
  }
 },
 "nbformat": 4,
 "nbformat_minor": 5
}
